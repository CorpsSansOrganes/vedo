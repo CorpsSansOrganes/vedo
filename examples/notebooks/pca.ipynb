{
 "cells": [
  {
   "cell_type": "code",
   "execution_count": null,
   "metadata": {},
   "outputs": [],
   "source": [
    "\"\"\"\n",
    "Draw the PCA (Principal Component Analysis) ellipsoid that contains\n",
    "50% of a cloud of a pointcloud, then check how many points are inside the surface.\n",
    "\"\"\"\n",
    "from vedo import *\n",
    "import numpy as np\n",
    "\n",
    "plt = Plotter(backend='ipyvtk', size=(1000,500))\n",
    "\n",
    "pts = np.random.randn(5000, 3) * [3,2,1]# random gaussian point cloud\n",
    "\n",
    "elli = pca_ellipsoid(pts, pvalue=0.5)  # group of [ellipse, 3 axes]\n",
    "plt += elli\n",
    "\n",
    "ipts = elli.inside_points(pts) # select points inside mesh\n",
    "opts = elli.inside_points(pts, invert=True)\n",
    "plt += Points(ipts, c=\"g\")\n",
    "plt += Points(opts, c=\"r\")\n",
    "\n",
    "printc(\"inside  points #\", ipts.npoints, c='g')\n",
    "printc(\"outside points #\", opts.npoints, c='r')\n",
    "printc(\"asphericity:\", elli.asphericity())\n",
    "plt.show(axes=1)"
   ]
  },
  {
   "cell_type": "code",
   "execution_count": null,
   "metadata": {},
   "outputs": [],
   "source": [
    "plt.close()"
   ]
  },
  {
   "cell_type": "code",
   "execution_count": null,
   "metadata": {},
   "outputs": [],
   "source": []
  }
 ],
 "metadata": {
  "kernelspec": {
   "display_name": "Python 3",
   "language": "python",
   "name": "python3"
  },
  "language_info": {
   "codemirror_mode": {
    "name": "ipython",
    "version": 3
   },
   "file_extension": ".py",
   "mimetype": "text/x-python",
   "name": "python",
   "nbconvert_exporter": "python",
   "pygments_lexer": "ipython3",
   "version": "3.9.10"
  }
 },
 "nbformat": 4,
 "nbformat_minor": 2
}
