{
 "cells": [
  {
   "cell_type": "code",
   "execution_count": 1,
   "metadata": {},
   "outputs": [
    {
     "name": "stdout",
     "output_type": "stream",
     "text": [
      "\u001b[1m\u001b[32minside  points # 2435\u001b[0m\n",
      "\u001b[1m\u001b[31moutside points # 2565\u001b[0m\n",
      "\u001b[1masphericity: 0.5332181607612124\u001b[0m\n",
      "Cannot find k3d, install with:  pip install k3d\n"
     ]
    }
   ],
   "source": [
    "\"\"\"\n",
    "Draw the PCA (Principal Component Analysis) ellipsoid that contains\n",
    "50% of a cloud of a pointcloud, then check how many points are inside the surface.\n",
    "\"\"\"\n",
    "from vedo import *\n",
    "import numpy as np\n",
    "\n",
    "settings.default_backend = 'k3d'  # or k3d, ipyvtk, trame, or vtk\n",
    "\n",
    "plt = Plotter(size=(1000,500))\n",
    "\n",
    "pts = np.random.randn(5000, 3) * [3,2,1] # random gaussian point cloud\n",
    "\n",
    "elli = pca_ellipsoid(pts, pvalue=0.5)    # group of [ellipse, 3 axes]\n",
    "plt += elli\n",
    "\n",
    "ipts = elli.inside_points(pts)           # extract points inside mesh\n",
    "opts = elli.inside_points(pts, invert=True)\n",
    "plt += Points(ipts, c=\"g\")\n",
    "plt += Points(opts, c=\"r\")\n",
    "\n",
    "printc(\"inside  points #\", ipts.npoints, c='g')\n",
    "printc(\"outside points #\", opts.npoints, c='r')\n",
    "printc(\"asphericity:\", elli.asphericity())\n",
    "plt.show(axes=1)"
   ]
  },
  {
   "cell_type": "code",
   "execution_count": 3,
   "metadata": {},
   "outputs": [],
   "source": [
    "plt.close()"
   ]
  },
  {
   "cell_type": "code",
   "execution_count": 4,
   "metadata": {},
   "outputs": [
    {
     "name": "stdout",
     "output_type": "stream",
     "text": [
      "\u001b[7m\u001b[1mvedo version      : 2023.5.0+dev2  (https://vedo.embl.es)        \u001b[0m\n",
      "\u001b[1mvtk version       : 9.3.0\u001b[0m\n",
      "\u001b[1mnumpy version     : 1.26.1\u001b[0m\n",
      "\u001b[1mpython version    : 3.10.10 (main, Mar 21 2023, 13:41:39) [Clang 14.0.6 ]\u001b[0m\n",
      "\u001b[1mpython interpreter: /Users/mmusy/miniconda3/bin/python\u001b[0m\n",
      "\u001b[1minstallation point: /Users/mmusy/Software/vedo\u001b[0m\n",
      "\u001b[1msystem            : Darwin 21.6.0 posix x86_64\u001b[0m\n",
      "\u001b[2mk3d version       : 2.16.0\u001b[0m\n",
      "\u001b[1m\u001b[33m💡 No input files? Try:\n",
      " vedo https://vedo.embl.es/examples/data/panther.stl.gz\u001b[0m\n"
     ]
    }
   ],
   "source": [
    "!vedo\n"
   ]
  },
  {
   "cell_type": "code",
   "execution_count": 1,
   "metadata": {},
   "outputs": [
    {
     "ename": "ModuleNotFoundError",
     "evalue": "No module named 'vedo'",
     "output_type": "error",
     "traceback": [
      "\u001b[0;31m---------------------------------------------------------------------------\u001b[0m",
      "\u001b[0;31mModuleNotFoundError\u001b[0m                       Traceback (most recent call last)",
      "\u001b[0;32m/var/folders/cv/0vshhy1j7lbgzdp4bdhwk8ww0000gn/T/ipykernel_47123/4101709871.py\u001b[0m in \u001b[0;36m<module>\u001b[0;34m\u001b[0m\n\u001b[0;32m----> 1\u001b[0;31m \u001b[0;32mimport\u001b[0m \u001b[0mvedo\u001b[0m\u001b[0;34m\u001b[0m\u001b[0;34m\u001b[0m\u001b[0m\n\u001b[0m\u001b[1;32m      2\u001b[0m \u001b[0mvedo\u001b[0m\u001b[0;34m.\u001b[0m\u001b[0m__version__\u001b[0m\u001b[0;34m\u001b[0m\u001b[0;34m\u001b[0m\u001b[0m\n\u001b[1;32m      3\u001b[0m \u001b[0mvedo\u001b[0m\u001b[0;34m.\u001b[0m\u001b[0minstalldir\u001b[0m\u001b[0;34m\u001b[0m\u001b[0;34m\u001b[0m\u001b[0m\n",
      "\u001b[0;31mModuleNotFoundError\u001b[0m: No module named 'vedo'"
     ]
    }
   ],
   "source": [
    "import vedo\n",
    "vedo.__version__\n",
    "vedo.installdir"
   ]
  },
  {
   "cell_type": "code",
   "execution_count": null,
   "metadata": {},
   "outputs": [],
   "source": []
  }
 ],
 "metadata": {
  "kernelspec": {
   "display_name": "Python 3 (ipykernel)",
   "language": "python",
   "name": "python3"
  },
  "language_info": {
   "codemirror_mode": {
    "name": "ipython",
    "version": 3
   },
   "file_extension": ".py",
   "mimetype": "text/x-python",
   "name": "python",
   "nbconvert_exporter": "python",
   "pygments_lexer": "ipython3",
   "version": "3.9.18"
  }
 },
 "nbformat": 4,
 "nbformat_minor": 2
}
