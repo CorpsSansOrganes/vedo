{
 "cells": [
  {
   "cell_type": "code",
   "execution_count": 1,
   "metadata": {
    "scrolled": true
   },
   "outputs": [
    {
     "name": "stderr",
     "output_type": "stream",
     "text": [
      "\u001b[1m\u001b[33;20m[vedo.backends.py:76] WARNING: Only k3d version 2.7.4 is currently supported\u001b[0m\n"
     ]
    },
    {
     "data": {
      "application/vnd.jupyter.widget-view+json": {
       "model_id": "2f5e6ab05ea2483a8379ba59e54a0e62",
       "version_major": 2,
       "version_minor": 0
      },
      "text/plain": [
       "Plot(antialias=True, axes=['x', 'y', 'z'], axes_helper=1.0, axes_helper_colors=[16711680, 65280, 255], backgro…"
      ]
     },
     "execution_count": 1,
     "metadata": {},
     "output_type": "execute_result"
    }
   ],
   "source": [
    "\"\"\"Manipulate Camera for K3D backend\"\"\"\n",
    "import vedo\n",
    "\n",
    "vedo.settings.default_backend = 'k3d' # or 2d, ipyvtk, or vtk\n",
    "\n",
    "bu = vedo.Mesh(vedo.dataurl+'bunny.obj')\n",
    "bu.show()"
   ]
  },
  {
   "cell_type": "code",
   "execution_count": 7,
   "metadata": {},
   "outputs": [],
   "source": [
    "# Manually set the k3d camera. Syntax is:\n",
    "# [posx,posy,posz, targetx,targety,targetz, upx,upy,upz]\n",
    "vedo.notebook_plotter.camera = [0., 0. ,1.,\n",
    "                                0., 0., 0.,\n",
    "                                0., 1., 0.]"
   ]
  },
  {
   "cell_type": "code",
   "execution_count": 8,
   "metadata": {},
   "outputs": [
    {
     "name": "stdout",
     "output_type": "stream",
     "text": [
      "k3dcam is [-0.017  0.11   0.48  -0.017  0.11   0.08   0.     1.     0.   ]\n"
     ]
    }
   ],
   "source": [
    "# Convert a vtkCamera object into the appropiate K3D list\n",
    "import vtk\n",
    "vcam = vtk.vtkCamera()\n",
    "vcam.SetPosition( [-0.017, 0.11, 0.48] )\n",
    "vcam.SetFocalPoint( [-0.017, 0.11, -0.001] )\n",
    "vcam.SetViewUp( [0.0, 1.0, 0.0] )\n",
    "vcam.SetDistance( 0.4 )\n",
    "k3dcam = vedo.utils.vtkCameraToK3D(vcam)\n",
    "print('k3dcam is', k3dcam)\n",
    "\n",
    "vedo.notebook_plotter.camera = k3dcam"
   ]
  },
  {
   "cell_type": "code",
   "execution_count": null,
   "metadata": {},
   "outputs": [],
   "source": []
  }
 ],
 "metadata": {
  "kernelspec": {
   "display_name": "Python 3 (ipykernel)",
   "language": "python",
   "name": "python3"
  },
  "language_info": {
   "codemirror_mode": {
    "name": "ipython",
    "version": 3
   },
   "file_extension": ".py",
   "mimetype": "text/x-python",
   "name": "python",
   "nbconvert_exporter": "python",
   "pygments_lexer": "ipython3",
   "version": "3.10.9"
  }
 },
 "nbformat": 4,
 "nbformat_minor": 2
}
