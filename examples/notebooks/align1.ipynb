{
 "cells": [
  {
   "cell_type": "code",
   "execution_count": null,
   "metadata": {
    "scrolled": false
   },
   "outputs": [],
   "source": [
    "\"\"\"Align 2 shapes: a simple line to a polygonal mesh\"\"\"\n",
    "from vedo import *\n",
    "\n",
    "limb = Mesh(dataurl + \"270.vtk\").alpha(0.5)\n",
    "rim  = Mesh(dataurl + \"270_rim.vtk\").c(\"red4\").ps(20)\n",
    "\n",
    "# make a clone copy of the rim line and align it to the surface\n",
    "arim = rim.clone().align_to(limb, rigid=True).c(\"g\").ps(20)\n",
    "\n",
    "plt = Plotter(backend='k3d') # or k3d, itk, ipyvtk, or None\n",
    "plt += [limb, rim, arim]\n",
    "\n",
    "# compute how well it fits\n",
    "d = 0\n",
    "for p in arim.points():\n",
    "    cpt = limb.closest_point(p)\n",
    "    d += mag2(p - cpt)  # square of residual distance\n",
    "\n",
    "printc(\"ave. squared distance =\", d / arim.npoints, c=\"g\")\n",
    "plt.show(axes=1, zoom='tight')"
   ]
  },
  {
   "cell_type": "code",
   "execution_count": null,
   "metadata": {},
   "outputs": [],
   "source": []
  }
 ],
 "metadata": {
  "kernelspec": {
   "display_name": "Python 3 (ipykernel)",
   "language": "python",
   "name": "python3"
  },
  "language_info": {
   "codemirror_mode": {
    "name": "ipython",
    "version": 3
   },
   "file_extension": ".py",
   "mimetype": "text/x-python",
   "name": "python",
   "nbconvert_exporter": "python",
   "pygments_lexer": "ipython3",
   "version": "3.9.13"
  }
 },
 "nbformat": 4,
 "nbformat_minor": 2
}
