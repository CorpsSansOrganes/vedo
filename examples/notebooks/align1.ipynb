{
 "cells": [
  {
   "cell_type": "code",
   "execution_count": 1,
   "metadata": {
    "scrolled": false
   },
   "outputs": [
    {
     "name": "stdout",
     "output_type": "stream",
     "text": [
      "\u001b[1m\u001b[32;1mave. squared distance = 43.20515185350062\u001b[0m\n"
     ]
    },
    {
     "data": {
      "application/vnd.jupyter.widget-view+json": {
       "model_id": "a327d0c44d4e46e8b3579313e9029891",
       "version_major": 2,
       "version_minor": 0
      },
      "text/plain": [
       "Plot(antialias=True, axes=['x', 'y', 'z'], axes_helper=1.0, background_color=16777215, camera=[2, -3, 0.2, 0.0…"
      ]
     },
     "execution_count": 1,
     "metadata": {},
     "output_type": "execute_result"
    }
   ],
   "source": [
    "\"\"\"Align 2 shapes: a simple line to a polygonal mesh\"\"\"\n",
    "from vedo import *\n",
    "\n",
    "limb = Mesh(dataurl + \"270.vtk\").alpha(0.5)\n",
    "rim  = Mesh(dataurl + \"270_rim.vtk\").c(\"red4\").ps(20)\n",
    "\n",
    "# make a clone copy of the rim line and align it to the surface\n",
    "arim = rim.clone().align_to(limb, rigid=True).c(\"g\").ps(20)\n",
    "\n",
    "plt = Plotter(backend='k3d') # or k3d, itk, ipyvtk, or None\n",
    "plt += [limb, rim, arim]\n",
    "\n",
    "# compute how well it fits\n",
    "d = 0\n",
    "for p in arim.points():\n",
    "    cpt = limb.closest_point(p)\n",
    "    d += mag2(p - cpt)  # square of residual distance\n",
    "\n",
    "printc(\"ave. squared distance =\", d / arim.npoints, c=\"g\")\n",
    "plt.show(axes=1)"
   ]
  },
  {
   "cell_type": "code",
   "execution_count": 2,
   "metadata": {},
   "outputs": [],
   "source": [
    "plt.close()"
   ]
  },
  {
   "cell_type": "code",
   "execution_count": null,
   "metadata": {},
   "outputs": [],
   "source": []
  }
 ],
 "metadata": {
  "kernelspec": {
   "display_name": "Python 3 (ipykernel)",
   "language": "python",
   "name": "python3"
  },
  "language_info": {
   "codemirror_mode": {
    "name": "ipython",
    "version": 3
   },
   "file_extension": ".py",
   "mimetype": "text/x-python",
   "name": "python",
   "nbconvert_exporter": "python",
   "pygments_lexer": "ipython3",
   "version": "3.9.13"
  }
 },
 "nbformat": 4,
 "nbformat_minor": 2
}
