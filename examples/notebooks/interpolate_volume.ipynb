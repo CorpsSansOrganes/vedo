{
 "cells": [
  {
   "cell_type": "code",
   "execution_count": 1,
   "metadata": {},
   "outputs": [],
   "source": [
    "\"\"\"Generate a voxel dataset by interpolating a scalar\n",
    "which is only known on a scattered set of points or mesh.\n",
    "Available interpolation kernels are: shepard, gaussian, voronoi, linear.\n",
    "The middle layer is the result of thresholding the volume\n",
    "between 0.3 and 0.4 and assigning it the new value of 0.9\"\"\"\n",
    "from vedo import *\n",
    "import numpy as np\n",
    "\n",
    "settings.default_backend = 'vtk'  # or k3d, ipyvtk, or vtk\n",
    "\n",
    "npts = 500                       # nr. of points of known scalar value\n",
    "coords = np.random.rand(npts, 3) # range is [0, 1]\n",
    "scals = np.abs(coords[:, 2])     # let the scalar be the z of point itself\n",
    "\n",
    "apts = Points(coords)\n",
    "apts.pointdata['scals'] = scals\n",
    "\n",
    "vol = apts.tovolume(kernel='shepard', radius=0.2, dims=(90,90,90))\n",
    "vol.cmap([\"tomato\", \"g\", \"b\"])   # set color transfer functions\n",
    "\n",
    "# this produces a hole in the histogram in the range [0.3, 0.4]'\n",
    "vol.threshold(above=0.3, below=0.4, replace=0.9) # replace voxel value in [vmin,vmax]\n",
    "\n",
    "plt = show(apts, vol, axes=1, elevation=-30)"
   ]
  },
  {
   "cell_type": "code",
   "execution_count": 2,
   "metadata": {},
   "outputs": [
    {
     "data": {
      "text/html": [
       "<table>\n",
       "<tr>\n",
       "<td>\n",
       "<img src='data:image/png;base64,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'></img>\n",
       "</td>\n",
       "<td style='text-align: center; vertical-align: center;'><br/>\n",
       "<b> Points: &nbsp&nbsp</b><b><a href=\"https://vedo.embl.es/docs/vedo/pointcloud.html#Points\" target=\"_blank\">vedo.pointcloud.Points</a></b>\n",
       "<table>\n",
       "<tr><td><b> bounds </b> <br/> (x/y/z) </td><td>3.855e-4 ... 0.9994<br/>1.426e-3 ... 0.9982<br/>1.414e-4 ... 0.9987</td></tr>\n",
       "<tr><td><b> center of mass </b></td><td>(0.494, 0.504, 0.485)</td></tr>\n",
       "<tr><td><b> average size </b></td><td>0.486</td></tr>\n",
       "<tr><td><b> nr. points </b></td><td>500</td></tr>\n",
       "<tr><td><b> point data array </b></td><td>scals</td></tr>\n",
       "\n",
       "</table>\n",
       "</table>"
      ],
      "text/plain": [
       "<vedo.pointcloud.Points at 0x7f197af6c980>"
      ]
     },
     "execution_count": 2,
     "metadata": {},
     "output_type": "execute_result"
    }
   ],
   "source": [
    "apts"
   ]
  },
  {
   "cell_type": "code",
   "execution_count": 3,
   "metadata": {},
   "outputs": [
    {
     "data": {
      "text/plain": [
       "<vedo.plotter.Plotter at 0x7f19a44a7b60>"
      ]
     },
     "execution_count": 3,
     "metadata": {},
     "output_type": "execute_result"
    }
   ],
   "source": [
    "plt.close()"
   ]
  },
  {
   "cell_type": "code",
   "execution_count": null,
   "metadata": {},
   "outputs": [],
   "source": []
  }
 ],
 "metadata": {
  "kernelspec": {
   "display_name": "Python 3 (ipykernel)",
   "language": "python",
   "name": "python3"
  },
  "language_info": {
   "codemirror_mode": {
    "name": "ipython",
    "version": 3
   },
   "file_extension": ".py",
   "mimetype": "text/x-python",
   "name": "python",
   "nbconvert_exporter": "python",
   "pygments_lexer": "ipython3",
   "version": "3.12.5"
  },
  "toc": {
   "base_numbering": 1,
   "nav_menu": {},
   "number_sections": true,
   "sideBar": true,
   "skip_h1_title": false,
   "title_cell": "Table of Contents",
   "title_sidebar": "Contents",
   "toc_cell": false,
   "toc_position": {},
   "toc_section_display": true,
   "toc_window_display": false
  }
 },
 "nbformat": 4,
 "nbformat_minor": 4
}
