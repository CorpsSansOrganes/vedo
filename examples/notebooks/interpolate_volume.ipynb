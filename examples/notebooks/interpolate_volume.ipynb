{
 "cells": [
  {
   "cell_type": "code",
   "execution_count": 1,
   "metadata": {},
   "outputs": [
    {
     "data": {
      "text/plain": [
       "<vedo.plotter.Plotter at 0x76857485ba40>"
      ]
     },
     "execution_count": 1,
     "metadata": {},
     "output_type": "execute_result"
    }
   ],
   "source": [
    "\"\"\"Generate a voxel dataset by interpolating a scalar\n",
    "which is only known on a scattered set of points or mesh.\n",
    "Available interpolation kernels are: shepard, gaussian, voronoi, linear.\n",
    "The middle layer is the result of thresholding the volume\n",
    "between 0.3 and 0.4 and assigning it the new value of 0.9\"\"\"\n",
    "from vedo import *\n",
    "import numpy as np\n",
    "\n",
    "settings.default_backend = 'vtk'  # or k3d, ipyvtk, or vtk\n",
    "\n",
    "npts = 500                       # nr. of points of known scalar value\n",
    "coords = np.random.rand(npts, 3) # range is [0, 1]\n",
    "scals = np.abs(coords[:, 2])     # let the scalar be the z of point itself\n",
    "\n",
    "apts = Points(coords)\n",
    "apts.pointdata['scals'] = scals\n",
    "\n",
    "vol = apts.tovolume(kernel='shepard', radius=0.2, dims=(90,90,90))\n",
    "vol.cmap([\"tomato\", \"g\", \"b\"])   # set color transfer functions\n",
    "\n",
    "# this produces a hole in the histogram in the range [0.3, 0.4]'\n",
    "vol.threshold(above=0.3, below=0.4, replace=0.9) # replace voxel value in [vmin,vmax]\n",
    "\n",
    "show(apts, vol, axes=1, elevation=-30)"
   ]
  },
  {
   "cell_type": "code",
   "execution_count": 2,
   "metadata": {},
   "outputs": [
    {
     "data": {
      "text/html": [
       "<table>\n",
       "<tr>\n",
       "<td>\n",
       "<img src='data:image/png;base64,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'></img>\n",
       "</td>\n",
       "<td style='text-align: center; vertical-align: center;'><br/>\n",
       "<b> Points: &nbsp&nbsp</b><b><a href=\"https://vedo.embl.es/docs/vedo/pointcloud.html#Points\" target=\"_blank\">vedo.pointcloud.Points</a></b>\n",
       "<table>\n",
       "<tr><td><b> bounds </b> <br/> (x/y/z) </td><td>3.503e-4 ... 0.9995<br/>4.542e-4 ... 0.9999<br/>2.156e-4 ... 0.9989</td></tr>\n",
       "<tr><td><b> center of mass </b></td><td>(0.494, 0.533, 0.484)</td></tr>\n",
       "<tr><td><b> average size </b></td><td>0.485</td></tr>\n",
       "<tr><td><b> nr. points </b></td><td>500</td></tr>\n",
       "<tr><td><b> point data array </b></td><td>scals</td></tr>\n",
       "\n",
       "</table>\n",
       "</table>"
      ],
      "text/plain": [
       "<vedo.pointcloud.Points at 0x7685b11b5d90>"
      ]
     },
     "execution_count": 2,
     "metadata": {},
     "output_type": "execute_result"
    }
   ],
   "source": [
    "apts"
   ]
  },
  {
   "cell_type": "code",
   "execution_count": null,
   "metadata": {},
   "outputs": [],
   "source": []
  }
 ],
 "metadata": {
  "kernelspec": {
   "display_name": "Python 3 (ipykernel)",
   "language": "python",
   "name": "python3"
  },
  "language_info": {
   "codemirror_mode": {
    "name": "ipython",
    "version": 3
   },
   "file_extension": ".py",
   "mimetype": "text/x-python",
   "name": "python",
   "nbconvert_exporter": "python",
   "pygments_lexer": "ipython3",
   "version": "3.12.4"
  }
 },
 "nbformat": 4,
 "nbformat_minor": 4
}
