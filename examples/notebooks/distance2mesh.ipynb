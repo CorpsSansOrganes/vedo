{
 "cells": [
  {
   "cell_type": "code",
   "execution_count": 1,
   "metadata": {},
   "outputs": [
    {
     "name": "stdout",
     "output_type": "stream",
     "text": [
      "Distance: [2.54950976 2.54950976 2.41422468 ... 2.14595456 2.27999987 2.41536531]\n"
     ]
    },
    {
     "data": {
      "application/vnd.jupyter.widget-view+json": {
       "model_id": "de7b1fda636f4a5f9c73c3bbb8f0377f",
       "version_major": 2,
       "version_minor": 0
      },
      "text/plain": [
       "Plot(antialias=True, axes=['x', 'y', 'z'], axes_helper=1.0, axes_helper_colors=[16711680, 65280, 255], backgro…"
      ]
     },
     "execution_count": 1,
     "metadata": {},
     "output_type": "execute_result"
    }
   ],
   "source": [
    "\"\"\"Compute the (signed) distance from one mesh to another.\"\"\"\n",
    "from vedo import *\n",
    "\n",
    "settings.default_backend = 'k3d' # or 2d, ipyvtk, or vtk\n",
    "\n",
    "s1 = Sphere().flat() # flat shading\n",
    "s2 = Cube(pos=(3,0,0), c='white', alpha=0.2)\n",
    "\n",
    "# add scalars to the sphere that correspond to their distance from the cube\n",
    "s1.distance_to(s2, signed=True, invert=False)\n",
    "s1.cmap(\"magma_r\").add_scalarbar()\n",
    "\n",
    "print(\"Distance:\", s1.pointdata[\"Distance\"])\n",
    "show(s1, s2, viewup='z', axes=1, bg='bb')"
   ]
  },
  {
   "cell_type": "code",
   "execution_count": 3,
   "metadata": {},
   "outputs": [
    {
     "data": {
      "text/html": [
       "<table>\n",
       "<tr>\n",
       "<td>\n",
       "<img src='data:image/png;base64,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'></img>\n",
       "</td>\n",
       "<td style='text-align: center; vertical-align: center;'><br/>\n",
       "<b> Sphere: &nbsp&nbsp</b><b><a href=\"https://vedo.embl.es/docs/vedo/mesh.html\" target=\"_blank\">vedo.mesh.Mesh</a></b>\n",
       "<table>\n",
       "<tr><td><b> bounds </b> <br/> (x/y/z) </td><td>-0.9977 ... 0.9977<br/>-0.9977 ... 0.9977<br/>-1.000 ... 1.000</td></tr>\n",
       "<tr><td><b> center of mass </b></td><td>(0, 0, 0)</td></tr>\n",
       "<tr><td><b> average size </b></td><td>1.000</td></tr>\n",
       "<tr><td><b> nr. points&nbsp/&nbspfaces </b></td><td>1058&nbsp/&nbsp2112</td></tr>\n",
       "<tr><td><b> point data array </b></td><td>Distance</td></tr>\n",
       "\n",
       "</table>\n",
       "</table>"
      ],
      "text/plain": [
       "<Sphere(0x55e0a675d9f0) at 0x7f232c7c0d60>"
      ]
     },
     "execution_count": 3,
     "metadata": {},
     "output_type": "execute_result"
    }
   ],
   "source": [
    "s1"
   ]
  },
  {
   "cell_type": "code",
   "execution_count": 4,
   "metadata": {},
   "outputs": [
    {
     "data": {
      "text/plain": [
       "distance_to\n",
       "├── Sphere\n",
       "└── Cube"
      ]
     },
     "execution_count": 4,
     "metadata": {},
     "output_type": "execute_result"
    }
   ],
   "source": [
    "s1.pipeline"
   ]
  },
  {
   "cell_type": "code",
   "execution_count": null,
   "metadata": {},
   "outputs": [],
   "source": []
  }
 ],
 "metadata": {
  "kernelspec": {
   "display_name": "Python 3 (ipykernel)",
   "language": "python",
   "name": "python3"
  },
  "language_info": {
   "codemirror_mode": {
    "name": "ipython",
    "version": 3
   },
   "file_extension": ".py",
   "mimetype": "text/x-python",
   "name": "python",
   "nbconvert_exporter": "python",
   "pygments_lexer": "ipython3",
   "version": "3.10.10"
  }
 },
 "nbformat": 4,
 "nbformat_minor": 2
}
