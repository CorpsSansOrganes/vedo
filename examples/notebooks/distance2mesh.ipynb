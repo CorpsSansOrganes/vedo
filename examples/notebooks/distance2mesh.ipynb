{
 "cells": [
  {
   "cell_type": "code",
   "execution_count": 9,
   "metadata": {},
   "outputs": [
    {
     "name": "stdout",
     "output_type": "stream",
     "text": [
      "Distance: [2.54950976 2.54950976 2.41422468 ... 2.14595456 2.27999987 2.41536531]\n"
     ]
    },
    {
     "data": {
      "application/vnd.jupyter.widget-view+json": {
       "model_id": "e8921dba576d44ba974cf8988584773c",
       "version_major": 2,
       "version_minor": 0
      },
      "text/plain": [
       "Plot(antialias=True, axes=['x', 'y', 'z'], axes_helper=1.0, axes_helper_colors=[16711680, 65280, 255], backgro…"
      ]
     },
     "execution_count": 9,
     "metadata": {},
     "output_type": "execute_result"
    }
   ],
   "source": [
    "\"\"\"Compute the (signed) distance from one mesh to another.\"\"\"\n",
    "from vedo import *\n",
    "\n",
    "settings.default_backend = 'k3d' # or 2d, ipyvtk, or vtk\n",
    "\n",
    "s1 = Sphere().flat() # flat shading\n",
    "s2 = Cube(pos=(3,0,0), c='white', alpha=0.2)\n",
    "\n",
    "# add scalars to the sphere that correspond to their distance from the cube\n",
    "s1.distance_to(s2, signed=True, invert=False)\n",
    "s1.cmap(\"magma_r\").add_scalarbar()\n",
    "\n",
    "print(\"Distance:\", s1.pointdata[\"Distance\"])\n",
    "show(s1, s2, viewup='z', axes=1, bg='bb')"
   ]
  },
  {
   "cell_type": "code",
   "execution_count": 8,
   "metadata": {},
   "outputs": [
    {
     "data": {
      "text/html": [
       "<table>\n",
       "<tr>\n",
       "<td>\n",
       "<img src='data:image/png;base64,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'></img>\n",
       "</td>\n",
       "<td style='text-align: center; vertical-align: center;'><br/>\n",
       "<b> Sphere: &nbsp&nbsp</b><b><a href=\"https://vedo.embl.es/docs/vedo/mesh.html\" target=\"_blank\">vedo.mesh.Mesh</a></b>\n",
       "<table>\n",
       "<tr><td><b> bounds </b> <br/> (x/y/z) </td><td>-0.9977 ... 0.9977<br/>-0.9977 ... 0.9977<br/>-1.000 ... 1.000</td></tr>\n",
       "<tr><td><b> center of mass </b></td><td>(0, 0, 0)</td></tr>\n",
       "<tr><td><b> average size </b></td><td>1.000</td></tr>\n",
       "<tr><td><b> nr. points&nbsp/&nbspfaces </b></td><td>1058&nbsp/&nbsp2112</td></tr>\n",
       "<tr><td><b> point data array </b></td><td>Distance</td></tr>\n",
       "\n",
       "</table>\n",
       "</table>"
      ],
      "text/plain": [
       "<Sphere(0x7f1758023f00) at 0x7f170d437400>"
      ]
     },
     "execution_count": 8,
     "metadata": {},
     "output_type": "execute_result"
    }
   ],
   "source": [
    "s1"
   ]
  },
  {
   "cell_type": "code",
   "execution_count": 10,
   "metadata": {},
   "outputs": [
    {
     "data": {
      "text/plain": [
       "distance_to\n",
       "├── Sphere\n",
       "└── Cube"
      ]
     },
     "execution_count": 10,
     "metadata": {},
     "output_type": "execute_result"
    }
   ],
   "source": [
    "s1.pipeline"
   ]
  },
  {
   "cell_type": "code",
   "execution_count": null,
   "metadata": {},
   "outputs": [],
   "source": []
  }
 ],
 "metadata": {
  "kernelspec": {
   "display_name": "Python 3 (ipykernel)",
   "language": "python",
   "name": "python3"
  },
  "language_info": {
   "codemirror_mode": {
    "name": "ipython",
    "version": 3
   },
   "file_extension": ".py",
   "mimetype": "text/x-python",
   "name": "python",
   "nbconvert_exporter": "python",
   "pygments_lexer": "ipython3",
   "version": "3.10.9"
  }
 },
 "nbformat": 4,
 "nbformat_minor": 2
}
