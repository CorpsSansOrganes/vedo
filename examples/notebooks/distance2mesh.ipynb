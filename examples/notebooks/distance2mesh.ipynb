{
 "cells": [
  {
   "cell_type": "code",
   "execution_count": 3,
   "metadata": {},
   "outputs": [
    {
     "name": "stdout",
     "output_type": "stream",
     "text": [
      "Distance: [2.54950976 2.54950976 2.41422468 ... 2.14595456 2.27999987 2.41536531]\n"
     ]
    },
    {
     "data": {
      "text/plain": [
       "<vedo.plotter.Plotter at 0x7f4a3c7ef250>"
      ]
     },
     "execution_count": 3,
     "metadata": {},
     "output_type": "execute_result"
    }
   ],
   "source": [
    "\"\"\"Compute the (signed) distance from one mesh to another.\"\"\"\n",
    "from vedo import *\n",
    "\n",
    "settings.default_backend = 'vtk' # or 2d, ipyvtk, or vtk\n",
    "\n",
    "s1 = Sphere().flat() # flat shading\n",
    "s2 = Cube(pos=(3,0,0), c='white', alpha=0.2)\n",
    "\n",
    "# add scalars to the sphere that correspond to their distance from the cube\n",
    "s1.distance_to(s2, signed=True, invert=False)\n",
    "s1.cmap(\"magma_r\").add_scalarbar()\n",
    "\n",
    "print(\"Distance:\", s1.pointdata[\"Distance\"])\n",
    "show(s1, s2, viewup='z', axes=1, bg='bb')"
   ]
  },
  {
   "cell_type": "code",
   "execution_count": 4,
   "metadata": {},
   "outputs": [
    {
     "data": {
      "text/html": [
       "<table>\n",
       "<tr>\n",
       "<td>\n",
       "<img src='data:image/png;base64,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'></img>\n",
       "</td>\n",
       "<td style='text-align: center; vertical-align: center;'><br/>\n",
       "<b> Sphere: &nbsp&nbsp</b><b><a href=\"https://vedo.embl.es/docs/vedo/mesh.html\" target=\"_blank\">vedo.mesh.Mesh</a></b>\n",
       "<table>\n",
       "<tr><td><b> bounds </b> <br/> (x/y/z) </td><td>-0.9977 ... 0.9977<br/>-0.9977 ... 0.9977<br/>-1.000 ... 1.000</td></tr>\n",
       "<tr><td><b> center of mass </b></td><td>(0, 0, 0)</td></tr>\n",
       "<tr><td><b> average size </b></td><td>1.000</td></tr>\n",
       "<tr><td><b> nr. points&nbsp/&nbspfaces </b></td><td>1058&nbsp/&nbsp2112</td></tr>\n",
       "<tr><td><b> point data array </b></td><td>Distance</td></tr>\n",
       "\n",
       "</table>\n",
       "</table>"
      ],
      "text/plain": [
       "<vedo.shapes.Sphere at 0x7f49fc621ad0>"
      ]
     },
     "execution_count": 4,
     "metadata": {},
     "output_type": "execute_result"
    }
   ],
   "source": [
    "s1"
   ]
  },
  {
   "cell_type": "code",
   "execution_count": 5,
   "metadata": {},
   "outputs": [
    {
     "data": {
      "text/plain": [
       "<vedo.utils.OperationNode at 0x7f49fc672210>"
      ]
     },
     "execution_count": 5,
     "metadata": {},
     "output_type": "execute_result"
    }
   ],
   "source": [
    "s1.pipeline"
   ]
  },
  {
   "cell_type": "code",
   "execution_count": null,
   "metadata": {},
   "outputs": [],
   "source": []
  }
 ],
 "metadata": {
  "kernelspec": {
   "display_name": "Python 3 (ipykernel)",
   "language": "python",
   "name": "python3"
  },
  "language_info": {
   "codemirror_mode": {
    "name": "ipython",
    "version": 3
   },
   "file_extension": ".py",
   "mimetype": "text/x-python",
   "name": "python",
   "nbconvert_exporter": "python",
   "pygments_lexer": "ipython3",
   "version": "3.11.4"
  }
 },
 "nbformat": 4,
 "nbformat_minor": 4
}
