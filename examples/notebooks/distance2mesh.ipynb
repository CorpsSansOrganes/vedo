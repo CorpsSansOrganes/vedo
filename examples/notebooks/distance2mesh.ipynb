{
 "cells": [
  {
   "cell_type": "code",
   "execution_count": 1,
   "metadata": {},
   "outputs": [
    {
     "name": "stdout",
     "output_type": "stream",
     "text": [
      "Distance: [2.54950976 2.54950976 2.41422468 ... 2.14595456 2.27999987 2.41536531]\n"
     ]
    },
    {
     "data": {
      "application/vnd.jupyter.widget-view+json": {
       "model_id": "c4481d3517314c468fa1808b8ea1829b",
       "version_major": 2,
       "version_minor": 0
      },
      "text/plain": [
       "Plot(antialias=True, axes=['x', 'y', 'z'], axes_helper=1.0, axes_helper_colors=[16711680, 65280, 255], backgro…"
      ]
     },
     "metadata": {},
     "output_type": "display_data"
    }
   ],
   "source": [
    "\"\"\"Compute the (signed) distance from one mesh to another.\"\"\"\n",
    "from vedo import *\n",
    "\n",
    "settings.default_backend = 'k3d' # or 2d, ipyvtk, or vtk\n",
    "\n",
    "s1 = Sphere().flat() # flat shading\n",
    "s2 = Cube(pos=(3,0,0), c='white', alpha=0.2)\n",
    "\n",
    "# add scalars to the sphere that correspond to their distance from the cube\n",
    "s1.distance_to(s2, signed=True, invert=False)\n",
    "s1.cmap(\"magma_r\").add_scalarbar()\n",
    "\n",
    "print(\"Distance:\", s1.pointdata[\"Distance\"])\n",
    "show(s1, s2, viewup='z', axes=1, bg='bb')"
   ]
  },
  {
   "cell_type": "code",
   "execution_count": 2,
   "metadata": {},
   "outputs": [
    {
     "data": {
      "text/html": [
       "<table>\n",
       "<tr>\n",
       "<td>\n",
       "<img src='data:image/png;base64,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'></img>\n",
       "</td>\n",
       "<td style='text-align: center; vertical-align: center;'><br/>\n",
       "<b> Sphere: &nbsp&nbsp</b><b><a href=\"https://vedo.embl.es/docs/vedo/mesh.html\" target=\"_blank\">vedo.mesh.Mesh</a></b>\n",
       "<table>\n",
       "<tr><td><b> bounds </b> <br/> (x/y/z) </td><td>-0.9977 ... 0.9977<br/>-0.9977 ... 0.9977<br/>-1.000 ... 1.000</td></tr>\n",
       "<tr><td><b> center of mass </b></td><td>(0, 0, 0)</td></tr>\n",
       "<tr><td><b> average size </b></td><td>1.000</td></tr>\n",
       "<tr><td><b> nr. points&nbsp/&nbspfaces </b></td><td>1058&nbsp/&nbsp2112</td></tr>\n",
       "<tr><td><b> point data array </b></td><td>Distance</td></tr>\n",
       "\n",
       "</table>\n",
       "</table>"
      ],
      "text/plain": [
       "<vedo.shapes.Sphere at 0x7f8104354d00>"
      ]
     },
     "execution_count": 2,
     "metadata": {},
     "output_type": "execute_result"
    }
   ],
   "source": [
    "s1"
   ]
  },
  {
   "cell_type": "code",
   "execution_count": 4,
   "metadata": {},
   "outputs": [
    {
     "data": {
      "text/plain": [
       "distance_to\n",
       "├── Sphere\n",
       "└── Cube"
      ]
     },
     "execution_count": 4,
     "metadata": {},
     "output_type": "execute_result"
    }
   ],
   "source": [
    "s1.pipeline"
   ]
  },
  {
   "cell_type": "code",
   "execution_count": null,
   "metadata": {},
   "outputs": [],
   "source": []
  }
 ],
 "metadata": {
  "kernelspec": {
   "display_name": "Python 3 (ipykernel)",
   "language": "python",
   "name": "python3"
  },
  "language_info": {
   "codemirror_mode": {
    "name": "ipython",
    "version": 3
   },
   "file_extension": ".py",
   "mimetype": "text/x-python",
   "name": "python",
   "nbconvert_exporter": "python",
   "pygments_lexer": "ipython3",
   "version": "3.10.10"
  }
 },
 "nbformat": 4,
 "nbformat_minor": 2
}
