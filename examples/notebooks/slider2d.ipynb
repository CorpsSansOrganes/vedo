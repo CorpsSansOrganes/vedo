{
 "cells": [
  {
   "cell_type": "code",
   "execution_count": 1,
   "id": "d7392fcc",
   "metadata": {},
   "outputs": [
    {
     "data": {
      "application/vnd.jupyter.widget-view+json": {
       "model_id": "b4ee2f17c7754436b4265528a2403b23",
       "version_major": 2,
       "version_minor": 0
      },
      "text/plain": [
       "Output()"
      ]
     },
     "metadata": {},
     "output_type": "display_data"
    },
    {
     "data": {
      "application/vnd.jupyter.widget-view+json": {
       "model_id": "7f72d9258d4a4dcc997c8ca1ba802849",
       "version_major": 2,
       "version_minor": 0
      },
      "text/plain": [
       "Button(button_style='info', description='Change Color', style=ButtonStyle(), tooltip='click to select a random…"
      ]
     },
     "metadata": {},
     "output_type": "display_data"
    },
    {
     "data": {
      "application/vnd.jupyter.widget-view+json": {
       "model_id": "21f8b6cd01994d15a41d621983375390",
       "version_major": 2,
       "version_minor": 0
      },
      "text/plain": [
       "FloatSlider(value=0.0, description='x-position', max=0.2, min=-0.2, step=0.02)"
      ]
     },
     "metadata": {},
     "output_type": "display_data"
    }
   ],
   "source": [
    "from IPython.display import display, clear_output\n",
    "import ipywidgets as widgets\n",
    "from vedo import *\n",
    "\n",
    "############################## button\n",
    "button = widgets.Button(\n",
    "    description='Change Color',\n",
    "    button_style='info',\n",
    "    tooltip='click to select a random color',\n",
    ")\n",
    "\n",
    "def on_button_click(b):\n",
    "    with out:\n",
    "        rgb = (np.random.rand(3)*255).astype(int)\n",
    "        mesh.color(rgb)\n",
    "        vtxt.text(f\"RGB: {rgb} \\n({get_color_name(rgb)})\")\n",
    "        clear_output(wait=True)\n",
    "        img = plt.show()\n",
    "        display(img)\n",
    "button.on_click(on_button_click)\n",
    "\n",
    "############################## slider\n",
    "slider = widgets.FloatSlider(\n",
    "    description='x-position', \n",
    "    min=-0.2, value=0, max=0.2, \n",
    "    step=0.02,\n",
    "    continuous_update=True,\n",
    ")\n",
    "\n",
    "def on_slider(change):\n",
    "    with out:\n",
    "        value = change['new']\n",
    "        mesh.x(slider.value)\n",
    "        clear_output(wait=True)\n",
    "        img = plt.show(resetcam=True)\n",
    "        display(img)\n",
    "slider.observe(on_slider, names='value')\n",
    "\n",
    "############################################## vedo\n",
    "# settings.default_backend = \"2d\"  # this example only works with \"2d\"\n",
    "settings.backend_autoclose = False  # do not close Plotter after show()\n",
    "\n",
    "plt = Plotter(size=[600,500], axes=1, bg2=\"lightblue\")\n",
    "mesh = Mesh(dataurl+\"bunny.obj\").color(\"white\")\n",
    "vtxt = Text2D(font=\"Cartoons123\")\n",
    "plt += [mesh, vtxt]\n",
    "\n",
    "out = widgets.Output()\n",
    "display(out, button, slider)\n",
    "with out:\n",
    "    img = plt.show()\n",
    "    display(img)"
   ]
  },
  {
   "cell_type": "code",
   "execution_count": 11,
   "id": "d3d61d2b",
   "metadata": {},
   "outputs": [],
   "source": [
    "plt.close()"
   ]
  },
  {
   "cell_type": "code",
   "execution_count": 2,
   "id": "f1ac44ea",
   "metadata": {},
   "outputs": [
    {
     "data": {
      "text/html": [
       "<table>\n",
       "<tr>\n",
       "<td>\n",
       "<img src='data:image/png;base64,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'></img>\n",
       "</td>\n",
       "<td style='text-align: center; vertical-align: center;'><br/>\n",
       "<b> Mesh: &nbsp&nbsp</b><b><a href=\"https://vedo.embl.es/docs/vedo/mesh.html#Mesh\" target=\"_blank\">vedo.mesh.Mesh</a></b><br/><code><i>(...mbl.es/examples/data/bunny.obj)</i></code>\n",
       "<table>\n",
       "<tr><td><b> bounds </b> <br/> (x/y/z) </td><td>-0.09438 ... 0.06078<br/>0.03331 ... 0.1870<br/>-0.06168 ... 0.05871</td></tr>\n",
       "<tr><td><b> center of mass </b></td><td>(-0.0280, 0.0942, 9.05e-3)</td></tr>\n",
       "<tr><td><b> average size </b></td><td>0.063</td></tr>\n",
       "<tr><td><b> nr. points&nbsp/&nbspfaces </b></td><td>2503&nbsp/&nbsp4968</td></tr>\n",
       "\n",
       "\n",
       "</table>\n",
       "</table>"
      ],
      "text/plain": [
       "<vedo.mesh.Mesh at 0x7f35ccc8dd50>"
      ]
     },
     "execution_count": 2,
     "metadata": {},
     "output_type": "execute_result"
    }
   ],
   "source": [
    "mesh\n"
   ]
  },
  {
   "cell_type": "code",
   "execution_count": null,
   "id": "10545467-9489-42e6-a4ea-a331242ab9ae",
   "metadata": {},
   "outputs": [],
   "source": []
  }
 ],
 "metadata": {
  "kernelspec": {
   "display_name": "Python 3 (ipykernel)",
   "language": "python",
   "name": "python3"
  },
  "language_info": {
   "codemirror_mode": {
    "name": "ipython",
    "version": 3
   },
   "file_extension": ".py",
   "mimetype": "text/x-python",
   "name": "python",
   "nbconvert_exporter": "python",
   "pygments_lexer": "ipython3",
   "version": "3.11.5"
  }
 },
 "nbformat": 4,
 "nbformat_minor": 5
}
