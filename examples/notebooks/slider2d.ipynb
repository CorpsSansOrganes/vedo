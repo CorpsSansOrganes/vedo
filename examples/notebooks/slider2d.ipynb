{
 "cells": [
  {
   "cell_type": "code",
   "execution_count": 4,
   "id": "d7392fcc",
   "metadata": {},
   "outputs": [
    {
     "data": {
      "application/vnd.jupyter.widget-view+json": {
       "model_id": "5d062f80189c409bb3237d6d4323f065",
       "version_major": 2,
       "version_minor": 0
      },
      "text/plain": [
       "Output()"
      ]
     },
     "metadata": {},
     "output_type": "display_data"
    },
    {
     "data": {
      "application/vnd.jupyter.widget-view+json": {
       "model_id": "64557f32666b410ca3b7e14c4a745c8c",
       "version_major": 2,
       "version_minor": 0
      },
      "text/plain": [
       "Button(button_style='info', description='Change Color', style=ButtonStyle(), tooltip='click to select a random…"
      ]
     },
     "metadata": {},
     "output_type": "display_data"
    },
    {
     "data": {
      "application/vnd.jupyter.widget-view+json": {
       "model_id": "41d6c8f326614de79914a5860ea7ce49",
       "version_major": 2,
       "version_minor": 0
      },
      "text/plain": [
       "FloatSlider(value=0.0, description='x-position', max=0.2, min=-0.2, step=0.02)"
      ]
     },
     "metadata": {},
     "output_type": "display_data"
    }
   ],
   "source": [
    "from IPython.display import display, clear_output\n",
    "import ipywidgets as widgets\n",
    "from vedo import *\n",
    "\n",
    "############################## button\n",
    "button = widgets.Button(\n",
    "    description='Change Color',\n",
    "    button_style='info',\n",
    "    tooltip='click to select a random color',\n",
    ")\n",
    "\n",
    "def on_button_click(b):\n",
    "    with out:\n",
    "        rgb = (np.random.rand(3)*255).astype(int)\n",
    "        mesh.color(rgb)\n",
    "        vtxt.text(f\"RGB: {rgb} \\n({get_color_name(rgb)})\")\n",
    "        clear_output(wait=True)\n",
    "        img = plt.show()\n",
    "        display(img)\n",
    "button.on_click(on_button_click)\n",
    "\n",
    "############################## slider\n",
    "slider = widgets.FloatSlider(\n",
    "    description='x-position', \n",
    "    min=-0.2, value=0, max=0.2, \n",
    "    step=0.02,\n",
    "    continuous_update=True,\n",
    ")\n",
    "\n",
    "def on_slider(change):\n",
    "    with out:\n",
    "        value = change['new']\n",
    "        mesh.x(slider.value)\n",
    "        clear_output(wait=True)\n",
    "        img = plt.show(resetcam=True)\n",
    "        display(img)\n",
    "slider.observe(on_slider, names='value')\n",
    "\n",
    "############################################## vedo\n",
    "# settings.default_backend = \"2d\"  # this example only works with \"2d\"\n",
    "settings.backend_autoclose = False  # do not close Plotter after show()\n",
    "\n",
    "plt = Plotter(size=[600,500], axes=1, bg2=\"lightblue\")\n",
    "mesh = Mesh(dataurl+\"bunny.obj\").color(\"white\")\n",
    "vtxt = Text2D(font=\"Cartoons123\")\n",
    "plt += [mesh, vtxt]\n",
    "\n",
    "out = widgets.Output()\n",
    "display(out, button, slider)\n",
    "with out:\n",
    "    img = plt.show()\n",
    "    display(img)"
   ]
  },
  {
   "cell_type": "code",
   "execution_count": 11,
   "id": "d3d61d2b",
   "metadata": {},
   "outputs": [],
   "source": [
    "plt.close()"
   ]
  },
  {
   "cell_type": "code",
   "execution_count": null,
   "id": "f1ac44ea",
   "metadata": {},
   "outputs": [],
   "source": []
  }
 ],
 "metadata": {
  "kernelspec": {
   "display_name": "Python 3 (ipykernel)",
   "language": "python",
   "name": "python3"
  },
  "language_info": {
   "codemirror_mode": {
    "name": "ipython",
    "version": 3
   },
   "file_extension": ".py",
   "mimetype": "text/x-python",
   "name": "python",
   "nbconvert_exporter": "python",
   "pygments_lexer": "ipython3",
   "version": "3.10.10"
  }
 },
 "nbformat": 4,
 "nbformat_minor": 5
}
